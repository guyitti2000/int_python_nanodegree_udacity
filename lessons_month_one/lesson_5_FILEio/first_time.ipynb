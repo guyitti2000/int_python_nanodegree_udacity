{
 "cells": [
  {
   "cell_type": "code",
   "execution_count": 8,
   "id": "8acc1cd7",
   "metadata": {},
   "outputs": [
    {
     "name": "stdout",
     "output_type": "stream",
     "text": [
      "[{'name': 'Udacity', 'role': 100, 'description': 'A stellar Python instructor is needed for a new course!', 'available': True}, {'name': 'Udacity', 'role': 404, 'description': 'A quality assistance engineer who can start immediately.', 'available': False}]\n",
      "\n",
      "\n",
      "[{'_id': {'$oid': '5968dd23fc13ae04d9000001'}, 'product_name': 'sildenafil citrate', 'supplier': 'Wisozk Inc', 'quantity': 261, 'unit_cost': '$10.47'}, {'_id': {'$oid': '5968dd23fc13ae04d9000002'}, 'product_name': 'Mountain Juniperus ashei', 'supplier': 'Keebler-Hilpert', 'quantity': 292, 'unit_cost': '$8.74'}, {'_id': {'$oid': '5968dd23fc13ae04d9000003'}, 'product_name': 'Dextromathorphan HBr', 'supplier': 'Schmitt-Weissnat', 'quantity': 211, 'unit_cost': '$20.53'}]\n"
     ]
    }
   ],
   "source": [
    "import json\n",
    "\n",
    "with open('listings.json', 'r') as infile_1:\n",
    "    contents_listings = json.load(infile_1)\n",
    "\n",
    "with open('products.json', 'r') as infile_2:\n",
    "    contents_products = json.load(infile_2)\n",
    "\n",
    "print(contents_listings)\n",
    "print(\"\\n\")\n",
    "print(contents_products)\n",
    "print(\"\\n\")\n"
   ]
  },
  {
   "cell_type": "code",
   "execution_count": null,
   "id": "64b3db9a",
   "metadata": {},
   "outputs": [],
   "source": []
  },
  {
   "cell_type": "code",
   "execution_count": null,
   "id": "7d98be9f",
   "metadata": {},
   "outputs": [],
   "source": []
  }
 ],
 "metadata": {
  "kernelspec": {
   "display_name": "Python 3",
   "language": "python",
   "name": "python3"
  },
  "language_info": {
   "codemirror_mode": {
    "name": "ipython",
    "version": 3
   },
   "file_extension": ".py",
   "mimetype": "text/x-python",
   "name": "python",
   "nbconvert_exporter": "python",
   "pygments_lexer": "ipython3",
   "version": "3.9.5"
  }
 },
 "nbformat": 4,
 "nbformat_minor": 5
}
